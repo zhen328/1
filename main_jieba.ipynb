{
 "cells": [
  {
   "cell_type": "code",
   "execution_count": 1,
   "id": "eb49eda3-1498-4812-bd2b-fea0a05ff766",
   "metadata": {},
   "outputs": [
    {
     "name": "stderr",
     "output_type": "stream",
     "text": [
      "Building prefix dict from the default dictionary ...\n",
      "Dumping model to file cache C:\\Users\\潘建华\\AppData\\Local\\Temp\\jieba.cache\n",
      "Loading model cost 0.538 seconds.\n",
      "Prefix dict has been built successfully.\n"
     ]
    },
    {
     "name": "stdout",
     "output_type": "stream",
     "text": [
      "精确模式: 我/ 来到/ 北京/ 清华大学\n"
     ]
    }
   ],
   "source": [
    "import jieba\n",
    "\n",
    "# 精确模式分词\n",
    "sentence = \"我来到北京清华大学\"\n",
    "seg_list = jieba.cut(sentence, cut_all=False)  # 精确模式\n",
    "print(\"精确模式: \" + \"/ \".join(seg_list))"
   ]
  },
  {
   "cell_type": "code",
   "execution_count": 2,
   "id": "d3d1645e-b5e5-4b71-951e-f616bff6a923",
   "metadata": {},
   "outputs": [
    {
     "name": "stdout",
     "output_type": "stream",
     "text": [
      "全模式: 我/ 来到/ 北京/ 清华/ 清华大学/ 华大/ 大学\n"
     ]
    }
   ],
   "source": [
    "# 全模式分词\n",
    "seg_list = jieba.cut(sentence, cut_all=True)  # 全模式\n",
    "print(\"全模式: \" + \"/ \".join(seg_list))"
   ]
  },
  {
   "cell_type": "code",
   "execution_count": 3,
   "id": "44cc6679-4e9e-4731-b647-005cf679f53a",
   "metadata": {},
   "outputs": [
    {
     "name": "stdout",
     "output_type": "stream",
     "text": [
      "搜索引擎模式: 小明/ 硕士/ 毕业/ 于/ 中国/ 科学/ 学院/ 科学院/ 中国科学院/ 计算/ 计算所/ ，/ 后/ 在/ 日本/ 京都/ 大学/ 日本京都大学/ 深造\n"
     ]
    }
   ],
   "source": [
    "# 搜索引擎模式分词\n",
    "sentence = \"小明硕士毕业于中国科学院计算所，后在日本京都大学深造\"\n",
    "seg_list = jieba.cut_for_search(sentence)  # 搜索引擎模式\n",
    "print(\"搜索引擎模式: \" + \"/ \".join(seg_list))"
   ]
  },
  {
   "cell_type": "code",
   "execution_count": 4,
   "id": "fadc4bb3-1fa7-45d5-95dd-1be05afcc6ca",
   "metadata": {},
   "outputs": [
    {
     "name": "stdout",
     "output_type": "stream",
     "text": [
      "自定义词典验证: 潘建华/ 即将/ 是/ 自然语言/ 处理/ 方面/ 的/ 高手/ 。\n"
     ]
    }
   ],
   "source": [
    "# 加载自定义词典\n",
    "jieba.load_userdict(\"userdict.txt\")\n",
    "\n",
    "# 验证分词\n",
    "sentence = \"潘建华即将是自然语言处理方面的高手。\"\n",
    "seg_list = jieba.cut(sentence, HMM=False)  # 精确模式，不使用HMM\n",
    "print(\"自定义词典验证: \" + \"/ \".join(seg_list))"
   ]
  },
  {
   "cell_type": "code",
   "execution_count": 5,
   "id": "4cf7d9ec-5f32-4ff1-957a-53ee7e4b976b",
   "metadata": {},
   "outputs": [
    {
     "name": "stdout",
     "output_type": "stream",
     "text": [
      "关键词提取: 重点/ 大学/ 国家/ 河北省/ 共建\n"
     ]
    }
   ],
   "source": [
    "from jieba import analyse\n",
    "\n",
    "# 提取关键词\n",
    "sentence = \"燕山大学是河北省人民政府、教育部、工业和信息化部、国家国防科技工业局四方共建的全国重点大学，河北省重点支持的国家一流大学和世界一流学科建设高校，北京高科大学联盟成员。\"\n",
    "keywords = analyse.textrank(sentence, topK=5, withWeight=False, allowPOS=('ns', 'n', 'vn', 'v'))\n",
    "print(\"关键词提取: \" + \"/ \".join(keywords))"
   ]
  }
 ],
 "metadata": {
  "kernelspec": {
   "display_name": "Python 3 (ipykernel)",
   "language": "python",
   "name": "python3"
  },
  "language_info": {
   "codemirror_mode": {
    "name": "ipython",
    "version": 3
   },
   "file_extension": ".py",
   "mimetype": "text/x-python",
   "name": "python",
   "nbconvert_exporter": "python",
   "pygments_lexer": "ipython3",
   "version": "3.9.21"
  }
 },
 "nbformat": 4,
 "nbformat_minor": 5
}
